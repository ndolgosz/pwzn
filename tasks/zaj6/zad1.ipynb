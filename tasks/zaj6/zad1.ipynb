{
 "metadata": {
  "name": "",
  "signature": "sha256:ce41253b76034f6cfac087d5dc35620a25787b2b99e514eba63a91800b40446a"
 },
 "nbformat": 3,
 "nbformat_minor": 0,
 "worksheets": [
  {
   "cells": [
    {
     "cell_type": "heading",
     "level": 1,
     "metadata": {},
     "source": [
      "Wyja\u015bnienie"
     ]
    },
    {
     "cell_type": "markdown",
     "metadata": {},
     "source": [
      "Dostajecie teraz dane, bardzo podobne do takich na kt\u00f3rych pracuje si\u0119\u00a0w  \"prawdziwej nauce\" (w takiej formie dosta\u0142em kiedy\u015b\u00a0prawdziwe dane pomiarowe). \n",
      "\n",
      "Dane dotycz\u0105 poziom\u00f3w radionuklid\u00f3w w powietrzu przy gruntowym, s\u0105\u00a0to do\u015b\u0107 trudne pomiary do przeprowadzenia, poniewa\u017c rejestruje si\u0119 bardzo niskie dawki (aktywno\u015bci w powietrzu s\u0105 rz\u0119du mikrobekereli). Procedura pomiarowa wygl\u0105da (z grubsza) tak: \n",
      "\n",
      "* Przepuszczamy powierze pompowane przez wysokowydajn\u0105\u00a0pomp\u0119, przez p\u0142acht\u0119\u00a0filtru przez tydzie\u0144. \n",
      "* Prasujemy filtr\n",
      "* Zbieramy spektrum gamma \n",
      "* Po kilku obliczeniach (uwzgl\u0119dniaj\u0105cych okres p\u00f3\u0142trwania niekt\u00f3rych nuklid\u00f3w) otrzymujemy aktywno\u015b\u0107. \n",
      "\n",
      "\n",
      "Dane kt\u00f3re otrzymali\u015bcie s\u0105\u00a0wygenerowane :) "
     ]
    },
    {
     "cell_type": "markdown",
     "metadata": {},
     "source": [
      "Dane s\u0105\u00a0w pliku: \"data.csv\" w tym katalogu. "
     ]
    },
    {
     "cell_type": "heading",
     "level": 1,
     "metadata": {},
     "source": [
      "Zadanie 1"
     ]
    },
    {
     "cell_type": "markdown",
     "metadata": {},
     "source": [
      "Teraz zaimportuj pandas, oraz zainicjalizuj matplotlib: "
     ]
    },
    {
     "cell_type": "code",
     "collapsed": false,
     "input": [
      "import pandas as pd\n",
      "import numpy as np\n",
      "%matplotlib inline\n",
      "from matplotlib import pylab\n",
      "defaultPath = \"/home/natalia/PWZN/pwzn/tasks/zaj6/\"\n",
      "\n"
     ],
     "language": "python",
     "metadata": {},
     "outputs": [],
     "prompt_number": 14
    },
    {
     "cell_type": "markdown",
     "metadata": {},
     "source": [
      "Za\u0142aduj plik z danymi (dobrym pomys\u0142em jest obejrzenie go w arkuszu kalkulacyjnym)"
     ]
    },
    {
     "cell_type": "code",
     "collapsed": false,
     "input": [
      "file = pd.read_csv(defaultPath + \"data.csv\", header=1)\n",
      "print(file)\n"
     ],
     "language": "python",
     "metadata": {},
     "outputs": [
      {
       "output_type": "stream",
       "stream": "stdout",
       "text": [
        "      Rok  Tyg  Dust   7Be  137Cs  210Pb   40K  22Na  134Cs\n",
        "0    2010    1   NaN   NaN    NaN    NaN   NaN   NaN    NaN\n",
        "1     NaN    2   NaN   NaN    NaN    NaN   NaN   NaN    NaN\n",
        "2     NaN    3   NaN   NaN    NaN    NaN   NaN   NaN    NaN\n",
        "3     NaN    4   NaN   NaN    NaN    NaN   NaN   NaN    NaN\n",
        "4     NaN    5   NaN   NaN    NaN    NaN   NaN   NaN    NaN\n",
        "5     NaN    6   NaN   NaN    NaN    NaN   NaN   NaN    NaN\n",
        "6     NaN    7   NaN   NaN    NaN    NaN   NaN   NaN    NaN\n",
        "7     NaN    8   NaN   NaN    NaN    NaN   NaN   NaN    NaN\n",
        "8     NaN    9   NaN   NaN    NaN    NaN   NaN   NaN    NaN\n",
        "9     NaN   10   NaN   NaN    NaN    NaN   NaN   NaN    NaN\n",
        "10    NaN   11   NaN   NaN    NaN    NaN   NaN   NaN    NaN\n",
        "11    NaN   12   NaN   NaN    NaN    NaN   NaN   NaN    NaN\n",
        "12    NaN   13   NaN   NaN    NaN    NaN   NaN   NaN    NaN\n",
        "13    NaN   14   NaN   NaN    NaN    NaN   NaN   NaN    NaN\n",
        "14    NaN   15   NaN   NaN    NaN    NaN   NaN   NaN    NaN\n",
        "15    NaN   16   NaN   NaN    NaN    NaN   NaN   NaN    NaN\n",
        "16    NaN   17   NaN   NaN    NaN    NaN   NaN   NaN    NaN\n",
        "17    NaN   18   NaN   NaN    NaN    NaN   NaN   NaN    NaN\n",
        "18    NaN   19   NaN   NaN    NaN    NaN   NaN   NaN    NaN\n",
        "19    NaN   20   NaN   NaN    NaN    NaN   NaN   NaN    NaN\n",
        "20    NaN   21   NaN   NaN    NaN    NaN   NaN   NaN    NaN\n",
        "21    NaN   22   NaN   NaN    NaN    NaN   NaN   NaN    NaN\n",
        "22    NaN   23   NaN   NaN    NaN    NaN   NaN   NaN    NaN\n",
        "23    NaN   24   NaN   NaN    NaN    NaN   NaN   NaN    NaN\n",
        "24    NaN   25   NaN   NaN    NaN    NaN   NaN   NaN    NaN\n",
        "25    NaN   26   NaN   NaN    NaN    NaN   NaN   NaN    NaN\n",
        "26    NaN   27   NaN   NaN    NaN    NaN   NaN   NaN    NaN\n",
        "27    NaN   28   NaN   NaN    NaN    NaN   NaN   NaN    NaN\n",
        "28    NaN   29   NaN   NaN    NaN    NaN   NaN   NaN    NaN\n",
        "29    NaN   30   NaN   NaN    NaN    NaN   NaN   NaN    NaN\n",
        "..    ...  ...   ...   ...    ...    ...   ...   ...    ...\n",
        "230   NaN   23     6   488  0.713   52.5  2.34  4.84    NaN\n",
        "231   NaN   24    16  1584  0.429  106.5  8.52  3.73    NaN\n",
        "232   NaN   25    39  1430  0.729   76.7  6.73  9.24    NaN\n",
        "233   NaN   26    43  1082  0.685   67.3  7.71  9.82    NaN\n",
        "234   NaN   27    32   486  0.348   49.4  6.77  4.12    NaN\n",
        "235   NaN   28    11  1444  0.401   52.1  6.40  6.00    NaN\n",
        "236   NaN   29   NaN   NaN    NaN    NaN   NaN   NaN    NaN\n",
        "237   NaN   30   NaN   NaN    NaN    NaN   NaN   NaN    NaN\n",
        "238   NaN   31   NaN   NaN    NaN    NaN   NaN   NaN    NaN\n",
        "239   NaN   32   NaN   NaN    NaN    NaN   NaN   NaN    NaN\n",
        "240   NaN   33   NaN   NaN    NaN    NaN   NaN   NaN    NaN\n",
        "241   NaN   34   NaN   NaN    NaN    NaN   NaN   NaN    NaN\n",
        "242   NaN   35   NaN   NaN    NaN    NaN   NaN   NaN    NaN\n",
        "243   NaN   36   NaN   NaN    NaN    NaN   NaN   NaN    NaN\n",
        "244   NaN   37   NaN   NaN    NaN    NaN   NaN   NaN    NaN\n",
        "245   NaN   38   NaN   NaN    NaN    NaN   NaN   NaN    NaN\n",
        "246   NaN   39   NaN   NaN    NaN    NaN   NaN   NaN    NaN\n",
        "247   NaN   40   NaN   NaN    NaN    NaN   NaN   NaN    NaN\n",
        "248   NaN   41   NaN   NaN    NaN    NaN   NaN   NaN    NaN\n",
        "249   NaN   42   NaN   NaN    NaN    NaN   NaN   NaN    NaN\n",
        "250   NaN   43   NaN   NaN    NaN    NaN   NaN   NaN    NaN\n",
        "251   NaN   44   NaN   NaN    NaN    NaN   NaN   NaN    NaN\n",
        "252   NaN   45   NaN   NaN    NaN    NaN   NaN   NaN    NaN\n",
        "253   NaN   46   NaN   NaN    NaN    NaN   NaN   NaN    NaN\n",
        "254   NaN   47   NaN   NaN    NaN    NaN   NaN   NaN    NaN\n",
        "255   NaN   48   NaN   NaN    NaN    NaN   NaN   NaN    NaN\n",
        "256   NaN   49   NaN   NaN    NaN    NaN   NaN   NaN    NaN\n",
        "257   NaN   50   NaN   NaN    NaN    NaN   NaN   NaN    NaN\n",
        "258   NaN   51   NaN   NaN    NaN    NaN   NaN   NaN    NaN\n",
        "259   NaN   52   NaN   NaN    NaN    NaN   NaN   NaN    NaN\n",
        "\n",
        "[260 rows x 9 columns]\n"
       ]
      }
     ],
     "prompt_number": 15
    },
    {
     "cell_type": "heading",
     "level": 3,
     "metadata": {},
     "source": [
      "Okre\u015blenie dat"
     ]
    },
    {
     "cell_type": "markdown",
     "metadata": {},
     "source": [
      "W pliku pomiary nie maj\u0105\u00a0dat, ale rok i tydzie\u0144 dokonania pomiaru (w pomiarach radionuklid\u00f3w w powietrzu przez tydzie\u0144\u00a0zbiera si\u0119\u00a0radionuklidy na filtrze). \n",
      "\n",
      "Zauwa\u017ccie \u017ce w pliku w wierszu z rokiem nie ma warto\u015bci w ka\u017cdym wierszu. Uzupe\u0142nij brakuj\u0105ce dane. "
     ]
    },
    {
     "cell_type": "code",
     "collapsed": false,
     "input": [
      "data = pd.DataFrame(data = file)\n",
      "d = data['Rok']\n",
      "data.Rok = d.fillna(method='ffill')"
     ],
     "language": "python",
     "metadata": {},
     "outputs": [],
     "prompt_number": 16
    },
    {
     "cell_type": "markdown",
     "metadata": {},
     "source": [
      "Teraz przekonwertuj zawarto\u015b\u0107\u00a0kolumny Rok do liczb sta\u0142oprzeninkowych. To samo zr\u00f3b z kolumn\u0105\u00a0Tyg"
     ]
    },
    {
     "cell_type": "code",
     "collapsed": false,
     "input": [
      "data.Rok = data.Rok.astype(int)\n",
      "data.Tyg = data.Tyg.astype(int)"
     ],
     "language": "python",
     "metadata": {},
     "outputs": [],
     "prompt_number": 17
    },
    {
     "cell_type": "markdown",
     "metadata": {},
     "source": [
      "Dodaj do ramki pole Data, kt\u00f3re b\u0119dzie zawiera\u0107\u00a0dat\u0119\u00a0pomiaru. Dat\u0119 pomiaru wyznaczasz z roku i numeru tygodnia (wg. kalendzarza ISO). Przeliczenie roku i tygodnia na dat\u0119 pomiaru wykonaj za pomoc\u0105\u00a0dostarczonej funkcji. \n",
      "\n",
      "**Uwaga** tego nie da si\u0119\u00a0zwektoryzowa\u0107, prosz\u0119 po prostu przeiterowa\u0107 po poszczeg\u00f3lnych wierszach wybranych kolumn. \n",
      "\n",
      "    "
     ]
    },
    {
     "cell_type": "code",
     "collapsed": false,
     "input": [
      "from datetime import date, timedelta\n",
      "def week_start_date(year, week, dow=0):    \n",
      "    \"\"\"\n",
      "    :param int year: Numer roku\n",
      "    :param int week: Numer tygodnia w roku \n",
      "    :param int dow: Funkcja ta zwraca dat\u0119, zwr\u00f3ci dat\u0119 dnia o indeksie dow, zero oznacza poniedzia\u0142ek, jeden wtorek itp. \n",
      "    \"\"\"\n",
      "    # http://stackoverflow.com/a/1287862/7918\n",
      "    d = date(year, 1, 1)    \n",
      "    delta_days = d.isoweekday() - 1\n",
      "    delta_weeks = week\n",
      "    if year == d.isocalendar()[0]:\n",
      "        delta_weeks -= 1\n",
      "    delta = timedelta(days=-delta_days+dow, weeks=delta_weeks)\n",
      "    return d + delta"
     ],
     "language": "python",
     "metadata": {},
     "outputs": [],
     "prompt_number": 18
    },
    {
     "cell_type": "code",
     "collapsed": false,
     "input": [
      "data[\"Date\"] = [week_start_date(int(x), int(y)) for x,y in zip(data.Rok,data.Tyg)]"
     ],
     "language": "python",
     "metadata": {},
     "outputs": [],
     "prompt_number": 19
    },
    {
     "cell_type": "markdown",
     "metadata": {},
     "source": [
      "Ustaw kolumn\u0119 \"Date\" tak by by\u0142a indeksem Twojej ramki. "
     ]
    },
    {
     "cell_type": "code",
     "collapsed": false,
     "input": [
      "data.set_index(\"Date\", inplace=True)\n",
      "data.drop(\"Rok\",axis=1, inplace = True)\n",
      "data.drop(\"Tyg\",axis=1, inplace = True)\n",
      "print(data)\n"
     ],
     "language": "python",
     "metadata": {},
     "outputs": [
      {
       "output_type": "stream",
       "stream": "stdout",
       "text": [
        "            Dust   7Be  137Cs  210Pb   40K  22Na  134Cs\n",
        "Date                                                   \n",
        "2010-01-04   NaN   NaN    NaN    NaN   NaN   NaN    NaN\n",
        "2010-01-11   NaN   NaN    NaN    NaN   NaN   NaN    NaN\n",
        "2010-01-18   NaN   NaN    NaN    NaN   NaN   NaN    NaN\n",
        "2010-01-25   NaN   NaN    NaN    NaN   NaN   NaN    NaN\n",
        "2010-02-01   NaN   NaN    NaN    NaN   NaN   NaN    NaN\n",
        "2010-02-08   NaN   NaN    NaN    NaN   NaN   NaN    NaN\n",
        "2010-02-15   NaN   NaN    NaN    NaN   NaN   NaN    NaN\n",
        "2010-02-22   NaN   NaN    NaN    NaN   NaN   NaN    NaN\n",
        "2010-03-01   NaN   NaN    NaN    NaN   NaN   NaN    NaN\n",
        "2010-03-08   NaN   NaN    NaN    NaN   NaN   NaN    NaN\n",
        "2010-03-15   NaN   NaN    NaN    NaN   NaN   NaN    NaN\n",
        "2010-03-22   NaN   NaN    NaN    NaN   NaN   NaN    NaN\n",
        "2010-03-29   NaN   NaN    NaN    NaN   NaN   NaN    NaN\n",
        "2010-04-05   NaN   NaN    NaN    NaN   NaN   NaN    NaN\n",
        "2010-04-12   NaN   NaN    NaN    NaN   NaN   NaN    NaN\n",
        "2010-04-19   NaN   NaN    NaN    NaN   NaN   NaN    NaN\n",
        "2010-04-26   NaN   NaN    NaN    NaN   NaN   NaN    NaN\n",
        "2010-05-03   NaN   NaN    NaN    NaN   NaN   NaN    NaN\n",
        "2010-05-10   NaN   NaN    NaN    NaN   NaN   NaN    NaN\n",
        "2010-05-17   NaN   NaN    NaN    NaN   NaN   NaN    NaN\n",
        "2010-05-24   NaN   NaN    NaN    NaN   NaN   NaN    NaN\n",
        "2010-05-31   NaN   NaN    NaN    NaN   NaN   NaN    NaN\n",
        "2010-06-07   NaN   NaN    NaN    NaN   NaN   NaN    NaN\n",
        "2010-06-14   NaN   NaN    NaN    NaN   NaN   NaN    NaN\n",
        "2010-06-21   NaN   NaN    NaN    NaN   NaN   NaN    NaN\n",
        "2010-06-28   NaN   NaN    NaN    NaN   NaN   NaN    NaN\n",
        "2010-07-05   NaN   NaN    NaN    NaN   NaN   NaN    NaN\n",
        "2010-07-12   NaN   NaN    NaN    NaN   NaN   NaN    NaN\n",
        "2010-07-19   NaN   NaN    NaN    NaN   NaN   NaN    NaN\n",
        "2010-07-26   NaN   NaN    NaN    NaN   NaN   NaN    NaN\n",
        "...          ...   ...    ...    ...   ...   ...    ...\n",
        "2014-06-02     6   488  0.713   52.5  2.34  4.84    NaN\n",
        "2014-06-09    16  1584  0.429  106.5  8.52  3.73    NaN\n",
        "2014-06-16    39  1430  0.729   76.7  6.73  9.24    NaN\n",
        "2014-06-23    43  1082  0.685   67.3  7.71  9.82    NaN\n",
        "2014-06-30    32   486  0.348   49.4  6.77  4.12    NaN\n",
        "2014-07-07    11  1444  0.401   52.1  6.40  6.00    NaN\n",
        "2014-07-14   NaN   NaN    NaN    NaN   NaN   NaN    NaN\n",
        "2014-07-21   NaN   NaN    NaN    NaN   NaN   NaN    NaN\n",
        "2014-07-28   NaN   NaN    NaN    NaN   NaN   NaN    NaN\n",
        "2014-08-04   NaN   NaN    NaN    NaN   NaN   NaN    NaN\n",
        "2014-08-11   NaN   NaN    NaN    NaN   NaN   NaN    NaN\n",
        "2014-08-18   NaN   NaN    NaN    NaN   NaN   NaN    NaN\n",
        "2014-08-25   NaN   NaN    NaN    NaN   NaN   NaN    NaN\n",
        "2014-09-01   NaN   NaN    NaN    NaN   NaN   NaN    NaN\n",
        "2014-09-08   NaN   NaN    NaN    NaN   NaN   NaN    NaN\n",
        "2014-09-15   NaN   NaN    NaN    NaN   NaN   NaN    NaN\n",
        "2014-09-22   NaN   NaN    NaN    NaN   NaN   NaN    NaN\n",
        "2014-09-29   NaN   NaN    NaN    NaN   NaN   NaN    NaN\n",
        "2014-10-06   NaN   NaN    NaN    NaN   NaN   NaN    NaN\n",
        "2014-10-13   NaN   NaN    NaN    NaN   NaN   NaN    NaN\n",
        "2014-10-20   NaN   NaN    NaN    NaN   NaN   NaN    NaN\n",
        "2014-10-27   NaN   NaN    NaN    NaN   NaN   NaN    NaN\n",
        "2014-11-03   NaN   NaN    NaN    NaN   NaN   NaN    NaN\n",
        "2014-11-10   NaN   NaN    NaN    NaN   NaN   NaN    NaN\n",
        "2014-11-17   NaN   NaN    NaN    NaN   NaN   NaN    NaN\n",
        "2014-11-24   NaN   NaN    NaN    NaN   NaN   NaN    NaN\n",
        "2014-12-01   NaN   NaN    NaN    NaN   NaN   NaN    NaN\n",
        "2014-12-08   NaN   NaN    NaN    NaN   NaN   NaN    NaN\n",
        "2014-12-15   NaN   NaN    NaN    NaN   NaN   NaN    NaN\n",
        "2014-12-22   NaN   NaN    NaN    NaN   NaN   NaN    NaN\n",
        "\n",
        "[260 rows x 7 columns]\n"
       ]
      }
     ],
     "prompt_number": 20
    },
    {
     "cell_type": "markdown",
     "metadata": {},
     "source": [
      "Wy\u015bwietl poziomy py\u0142u (kolumna dust) oraz Berylu (7Be)"
     ]
    },
    {
     "cell_type": "code",
     "collapsed": false,
     "input": [
      "pylab.plot(data.Dust)"
     ],
     "language": "python",
     "metadata": {},
     "outputs": [
      {
       "metadata": {},
       "output_type": "pyout",
       "prompt_number": 21,
       "text": [
        "[<matplotlib.lines.Line2D at 0xae7ef0c>]"
       ]
      },
      {
       "metadata": {},
       "output_type": "display_data",
       "png": "[encoded data removed]",
       "text": [
        "<matplotlib.figure.Figure at 0xabc81ac>"
       ]
      }
     ],
     "prompt_number": 21
    },
    {
     "cell_type": "code",
     "collapsed": false,
     "input": [
      "pylab.plot(data[\"7Be\"])"
     ],
     "language": "python",
     "metadata": {},
     "outputs": [
      {
       "metadata": {},
       "output_type": "pyout",
       "prompt_number": 22,
       "text": [
        "[<matplotlib.lines.Line2D at 0xaff0f2c>]"
       ]
      },
      {
       "metadata": {},
       "output_type": "display_data",
       "png": "[encoded data removed]",
       "text": [
        "<matplotlib.figure.Figure at 0xad7484c>"
       ]
      }
     ],
     "prompt_number": 22
    },
    {
     "cell_type": "raw",
     "metadata": {},
     "source": [
      "\u015arednie miesi\u0119czne "
     ]
    },
    {
     "cell_type": "markdown",
     "metadata": {},
     "source": [
      "Wyznacz \u015brednie miesi\u0119czne poziom\u00f3w zanieczyszcze\u0144. W tym celu musisz: \n",
      "\n",
      "*Rozwi\u0105zanie nie\u0142adne*\n",
      "\n",
      "1. Doda\u0107 do ramki kolumn\u0119 month, kt\u00f3ra wskasuje miesi\u0105c danego pomiaru. \n",
      "2. Odpali\u0107\u00a0group_by na miesi\u0105cu \n",
      "3. Policzy\u0107\u00a0\u015bredni\u0105\n",
      "\n",
      "*Rozwi\u0105zanie \u0142adne* \n",
      "\n",
      "1. Ustawi\u0107\u00a0kolumn\u0119 Date jako indeks ramki (musi by\u0107 typu pd.DatetimeIndex), \n",
      "   patrz: http://stackoverflow.com/q/17328655/7918\n",
      "2. u\u017cy\u0107\u00a0df.resample"
     ]
    },
    {
     "cell_type": "code",
     "collapsed": false,
     "input": [
      "dataM = data.set_index(pd.DatetimeIndex(data.index))\n",
      "dataM.resample('M').mean()"
     ],
     "language": "python",
     "metadata": {},
     "outputs": [
      {
       "metadata": {},
       "output_type": "pyout",
       "prompt_number": 25,
       "text": [
        "Dust      34.148913\n",
        "7Be      878.963768\n",
        "137Cs      0.428363\n",
        "210Pb     46.298188\n",
        "40K        4.300022\n",
        "22Na       4.486703\n",
        "134Cs    435.683333\n",
        "dtype: float64"
       ]
      }
     ],
     "prompt_number": 25
    },
    {
     "cell_type": "heading",
     "level": 3,
     "metadata": {},
     "source": [
      "Zapis wynik\u00f3w "
     ]
    },
    {
     "cell_type": "markdown",
     "metadata": {},
     "source": [
      "Zapisz wyniki tygodniowe do jakiego\u015b\u00a0formatu:"
     ]
    },
    {
     "cell_type": "code",
     "collapsed": false,
     "input": [
      "data.to_csv('zad1.csv',mode='w')"
     ],
     "language": "python",
     "metadata": {},
     "outputs": [],
     "prompt_number": 24
    },
    {
     "cell_type": "code",
     "collapsed": false,
     "input": [],
     "language": "python",
     "metadata": {},
     "outputs": [],
     "prompt_number": 24
    }
   ],
   "metadata": {}
  }
 ]
}