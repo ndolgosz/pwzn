{
 "metadata": {
  "name": "",
  "signature": "sha256:498b0885cf708a61ef68e98d702245cddcffe701225597aa50c9cef451b97159"
 },
 "nbformat": 3,
 "nbformat_minor": 0,
 "worksheets": [
  {
   "cells": [
    {
     "cell_type": "code",
     "collapsed": false,
     "input": [
      "import pandas as pd\n",
      "%matplotlib inline"
     ],
     "language": "python",
     "metadata": {},
     "outputs": [],
     "prompt_number": 27
    },
    {
     "cell_type": "heading",
     "level": 1,
     "metadata": {},
     "source": [
      "Wprowadzenie\n"
     ]
    },
    {
     "cell_type": "markdown",
     "metadata": {},
     "source": [
      "Dane s\u0105\u00a0zasadniczo te same co ostatnim razem, ale pochodz\u0105 z innego \u017ar\u00f3d\u0142a. Maj\u0105\u00a0te\u017c\u00a0troch\u0119 inny format. \n",
      "\n",
      "Zasadnicze zadanie polega na zebraniu ca\u0142ych danych z pliku XLS (oba arkusze!), a nast\u0119pnie sformatowaniu ich do jednolitej postaci. Nast\u0119pnie nale\u017cy te wyniki po\u0142\u0105czy\u0107 z wynikami z poprzedniego zadania. \n",
      "\n",
      "Dane s\u0105 w pliku: \"data-cl.xls\".\n",
      "\n",
      "Za\u0142aduj dane do ramki pandas z jednego arkusza:"
     ]
    },
    {
     "cell_type": "code",
     "collapsed": false,
     "input": [
      "sheet1 = pd.read_excel(\"/home/pwzn/repo/pwzn/tasks/zaj6/data-cl.xls\", sheetname=\"Sheet1\", header=1)\n",
      "sheet2 = pd.read_excel(\"/home/pwzn/repo/pwzn/tasks/zaj6/data-cl.xls\", sheetname=\"Sheet2\", header=1)\n",
      "\n"
     ],
     "language": "python",
     "metadata": {},
     "outputs": [],
     "prompt_number": 28
    },
    {
     "cell_type": "markdown",
     "metadata": {},
     "source": [
      "Jak zauwa\u017cy\u0142e\u015b/a\u015b\u00a0dane dane maj\u0105\u00a0dziwn\u0105 struktur\u0119, W wierszach mamy pomiar w kolejnych tygodniach dla poszczeg\u00f3lnych stacji i lat. \n",
      "\n",
      "Na razie celem jest przekszta\u0142cenie tych danyh na tabelk\u0119 o strukturze zawieraj\u0105cej kolumny: Data, Rodzaj Radionuklidu, Stacja, Warto\u015b\u0107. \n",
      "\n",
      "Kolejno\u015b\u0107 przekszta\u0142ce\u0144\u00a0jest taka (mo\u017ce wpadniecie na lepsz\u0105): \n",
      "\n",
      "* Na pocz\u0105tek porz\u0105dek w danych. Nale\u017cy usun\u0105\u0107\u00a0puste rz\u0119dy na g\u00f3rze, wyrzuci\u0107\u00a0kolumn\u0119 w kt\u00f3rej jest tylko 7Be, nada\u0107 kolumnie z rokiem nazw\u0119\u00a0Rok, oraz kolumnie ze stacj\u0105 nazw\u0119\u00a0Stacja. \n",
      "* Za pomoc\u0105\u00a0funkcji pd.melt(...) dokona\u0107\u00a0unpivotowania danych \n",
      "* Z Roku i tygodnia wyznaczy\u0107 dat\u0119\u00a0(jak w ostatnim \u0107wiczeniu)."
     ]
    },
    {
     "cell_type": "code",
     "collapsed": false,
     "input": [
      "from datetime import date, timedelta\n",
      "def week_start_date(year, week, dow=0):    \n",
      "    \"\"\"\n",
      "    :param int year: Numer roku\n",
      "    :param int week: Numer tygodnia w roku \n",
      "    :param int dow: Funkcja ta zwraca dat\u0119, zwr\u00f3ci dat\u0119 dnia o indeksie dow, zero oznacza poniedzia\u0142ek, jeden wtorek itp. \n",
      "    \"\"\"\n",
      "    # http://stackoverflow.com/a/1287862/7918\n",
      "    d = date(year, 1, 1)    \n",
      "    delta_days = d.isoweekday() - 1\n",
      "    delta_weeks = week\n",
      "    if year == d.isocalendar()[0]:\n",
      "        delta_weeks -= 1\n",
      "    delta = timedelta(days=-delta_days+dow, weeks=delta_weeks)\n",
      "    return d + delta"
     ],
     "language": "python",
     "metadata": {},
     "outputs": [],
     "prompt_number": 29
    },
    {
     "cell_type": "code",
     "collapsed": false,
     "input": [
      "sheet1[\"Rok\"] = sheet1[\"Unnamed: 1\"]\n",
      "sheet1 = sheet1.drop(\"Unnamed: 1\", axis=1)\n",
      "d = sheet1['Rok']\n",
      "sheet1.Rok = d.fillna(method='ffill')"
     ],
     "language": "python",
     "metadata": {},
     "outputs": [
      {
       "output_type": "stream",
       "stream": "stdout",
       "text": [
        "    7Be   Nr:Tyg:     1    2    3    4    5    6    7    8  ...    44   45  \\\n",
        "0    NaN  Stacja A  NaN  NaN  NaN  NaN  NaN  NaN  NaN  NaN  ...   233  280   \n",
        "1    NaN  Stacja B  NaN  NaN  NaN  NaN  NaN  NaN  NaN  NaN  ...   414  251   \n",
        "2    NaN  Stacja C  NaN  NaN  NaN  NaN  NaN  NaN  NaN  NaN  ...   473  456   \n",
        "3    NaN  Stacja A  NaN  NaN  NaN  NaN  NaN  NaN  NaN  NaN  ...   489  314   \n",
        "4    NaN  Stacja B  NaN  NaN  NaN  NaN  NaN  NaN  NaN  NaN  ...   419  402   \n",
        "5    NaN  Stacja C  NaN  NaN  NaN  NaN  NaN  NaN  NaN  NaN  ...   221  447   \n",
        "6    NaN  Stacja D  NaN  NaN  NaN  NaN  NaN  NaN  NaN  NaN  ...   266  352   \n",
        "7    NaN  Stacja A  259  428  369  184  288  299  336  516  ...   436  385   \n",
        "8    NaN  Stacja B  174  280  175  231  323  351  446  285  ...   324  325   \n",
        "9    NaN  Stacja C  281  389  384  348  245  419  399  489  ...   548  281   \n",
        "10   NaN  Stacja D  232  206  226  198  268  227  371  307  ...   NaN  191   \n",
        "11   NaN  Stacja E  NaN  NaN  NaN  NaN  NaN  NaN  NaN  NaN  ...   556  276   \n",
        "12   NaN  Stacja A  242  165  407  394  163  326  325  244  ...   397  212   \n",
        "13   NaN  Stacja B  293  NaN  264  268  193  416  452  505  ...   556  124   \n",
        "14   NaN  Stacja C  397  NaN  256  295  386  244  292  487  ...   396  421   \n",
        "15   NaN  Stacja D  288  NaN  165  203  364  321  540  409  ...   594  519   \n",
        "16   NaN  Stacja E  386  NaN  292  285  395  511  502  492  ...   359  346   \n",
        "\n",
        "     46   47   48   49   50   51   52   Rok  \n",
        "0   260  221  199  245  229  171  225  2008  \n",
        "1   281  270  479  242  126  169  345  2008  \n",
        "2   435  289  446  226  190  369  185  2008  \n",
        "3   NaN  NaN  NaN  NaN  NaN  NaN  NaN  2009  \n",
        "4   322  258  366  158  244  256  298  2009  \n",
        "5   193  224  201  399  294  196  192  2009  \n",
        "6   292  278  115  335  163  164  327  2009  \n",
        "7   433  486  216  169  342  197  133  2010  \n",
        "8   368  393  244  349  191  243  185  2010  \n",
        "9   308  403  329  407  248  376  370  2010  \n",
        "10  501  428  187  268  225  141  145  2010  \n",
        "11  358  493  153  188  240  204  253  2010  \n",
        "12  273  337  NaN  NaN  NaN  NaN  185  2011  \n",
        "13  217  234  321  237  360  391  117  2011  \n",
        "14  362  183  383  353  418  253  399  2011  \n",
        "15  223  350  403  393  375  375  317  2011  \n",
        "16  190  459  239  381  309  244  352  2011  \n",
        "\n",
        "[17 rows x 55 columns]\n"
       ]
      }
     ],
     "prompt_number": 30
    },
    {
     "cell_type": "code",
     "collapsed": false,
     "input": [
      "sheet1 = sheet1.drop(\"7Be \", axis=1)"
     ],
     "language": "python",
     "metadata": {},
     "outputs": [
      {
       "output_type": "stream",
       "stream": "stdout",
       "text": [
        "    Nr:Tyg:     1    2    3    4    5    6    7    8    9  ...    44   45  \\\n",
        "0   Stacja A  NaN  NaN  NaN  NaN  NaN  NaN  NaN  NaN  NaN  ...   233  280   \n",
        "1   Stacja B  NaN  NaN  NaN  NaN  NaN  NaN  NaN  NaN  NaN  ...   414  251   \n",
        "2   Stacja C  NaN  NaN  NaN  NaN  NaN  NaN  NaN  NaN  NaN  ...   473  456   \n",
        "3   Stacja A  NaN  NaN  NaN  NaN  NaN  NaN  NaN  NaN  NaN  ...   489  314   \n",
        "4   Stacja B  NaN  NaN  NaN  NaN  NaN  NaN  NaN  NaN  NaN  ...   419  402   \n",
        "5   Stacja C  NaN  NaN  NaN  NaN  NaN  NaN  NaN  NaN  NaN  ...   221  447   \n",
        "6   Stacja D  NaN  NaN  NaN  NaN  NaN  NaN  NaN  NaN  NaN  ...   266  352   \n",
        "7   Stacja A  259  428  369  184  288  299  336  516  204  ...   436  385   \n",
        "8   Stacja B  174  280  175  231  323  351  446  285  489  ...   324  325   \n",
        "9   Stacja C  281  389  384  348  245  419  399  489  550  ...   548  281   \n",
        "10  Stacja D  232  206  226  198  268  227  371  307  308  ...   NaN  191   \n",
        "11  Stacja E  NaN  NaN  NaN  NaN  NaN  NaN  NaN  NaN  NaN  ...   556  276   \n",
        "12  Stacja A  242  165  407  394  163  326  325  244  313  ...   397  212   \n",
        "13  Stacja B  293  NaN  264  268  193  416  452  505  259  ...   556  124   \n",
        "14  Stacja C  397  NaN  256  295  386  244  292  487  555  ...   396  421   \n",
        "15  Stacja D  288  NaN  165  203  364  321  540  409  315  ...   594  519   \n",
        "16  Stacja E  386  NaN  292  285  395  511  502  492  138  ...   359  346   \n",
        "\n",
        "     46   47   48   49   50   51   52   Rok  \n",
        "0   260  221  199  245  229  171  225  2008  \n",
        "1   281  270  479  242  126  169  345  2008  \n",
        "2   435  289  446  226  190  369  185  2008  \n",
        "3   NaN  NaN  NaN  NaN  NaN  NaN  NaN  2009  \n",
        "4   322  258  366  158  244  256  298  2009  \n",
        "5   193  224  201  399  294  196  192  2009  \n",
        "6   292  278  115  335  163  164  327  2009  \n",
        "7   433  486  216  169  342  197  133  2010  \n",
        "8   368  393  244  349  191  243  185  2010  \n",
        "9   308  403  329  407  248  376  370  2010  \n",
        "10  501  428  187  268  225  141  145  2010  \n",
        "11  358  493  153  188  240  204  253  2010  \n",
        "12  273  337  NaN  NaN  NaN  NaN  185  2011  \n",
        "13  217  234  321  237  360  391  117  2011  \n",
        "14  362  183  383  353  418  253  399  2011  \n",
        "15  223  350  403  393  375  375  317  2011  \n",
        "16  190  459  239  381  309  244  352  2011  \n",
        "\n",
        "[17 rows x 54 columns]\n"
       ]
      }
     ],
     "prompt_number": 37
    },
    {
     "cell_type": "code",
     "collapsed": false,
     "input": [
      "tyg = list(sheet1.columns.values)[1:-1]\n",
      "print(pd.melt(sheet1, id_vars='Nr:Tyg: '))"
     ],
     "language": "python",
     "metadata": {},
     "outputs": [
      {
       "output_type": "stream",
       "stream": "stdout",
       "text": [
        "     Nr:Tyg:  variable  value\n",
        "0    Stacja A        1    NaN\n",
        "1    Stacja B        1    NaN\n",
        "2    Stacja C        1    NaN\n",
        "3    Stacja A        1    NaN\n",
        "4    Stacja B        1    NaN\n",
        "5    Stacja C        1    NaN\n",
        "6    Stacja D        1    NaN\n",
        "7    Stacja A        1    259\n",
        "8    Stacja B        1    174\n",
        "9    Stacja C        1    281\n",
        "10   Stacja D        1    232\n",
        "11   Stacja E        1    NaN\n",
        "12   Stacja A        1    242\n",
        "13   Stacja B        1    293\n",
        "14   Stacja C        1    397\n",
        "15   Stacja D        1    288\n",
        "16   Stacja E        1    386\n",
        "17   Stacja A        2    NaN\n",
        "18   Stacja B        2    NaN\n",
        "19   Stacja C        2    NaN\n",
        "20   Stacja A        2    NaN\n",
        "21   Stacja B        2    NaN\n",
        "22   Stacja C        2    NaN\n",
        "23   Stacja D        2    NaN\n",
        "24   Stacja A        2    428\n",
        "25   Stacja B        2    280\n",
        "26   Stacja C        2    389\n",
        "27   Stacja D        2    206\n",
        "28   Stacja E        2    NaN\n",
        "29   Stacja A        2    165\n",
        "..        ...      ...    ...\n",
        "871  Stacja B       52    298\n",
        "872  Stacja C       52    192\n",
        "873  Stacja D       52    327\n",
        "874  Stacja A       52    133\n",
        "875  Stacja B       52    185\n",
        "876  Stacja C       52    370\n",
        "877  Stacja D       52    145\n",
        "878  Stacja E       52    253\n",
        "879  Stacja A       52    185\n",
        "880  Stacja B       52    117\n",
        "881  Stacja C       52    399\n",
        "882  Stacja D       52    317\n",
        "883  Stacja E       52    352\n",
        "884  Stacja A      Rok   2008\n",
        "885  Stacja B      Rok   2008\n",
        "886  Stacja C      Rok   2008\n",
        "887  Stacja A      Rok   2009\n",
        "888  Stacja B      Rok   2009\n",
        "889  Stacja C      Rok   2009\n",
        "890  Stacja D      Rok   2009\n",
        "891  Stacja A      Rok   2010\n",
        "892  Stacja B      Rok   2010\n",
        "893  Stacja C      Rok   2010\n",
        "894  Stacja D      Rok   2010\n",
        "895  Stacja E      Rok   2010\n",
        "896  Stacja A      Rok   2011\n",
        "897  Stacja B      Rok   2011\n",
        "898  Stacja C      Rok   2011\n",
        "899  Stacja D      Rok   2011\n",
        "900  Stacja E      Rok   2011\n",
        "\n",
        "[901 rows x 3 columns]\n"
       ]
      }
     ],
     "prompt_number": 60
    },
    {
     "cell_type": "heading",
     "level": 3,
     "metadata": {},
     "source": [
      "Pobranie danych z drugiego skoroszytu"
     ]
    },
    {
     "cell_type": "markdown",
     "metadata": {},
     "source": [
      "Tak samo pobierz dane z drugiego skoroszytu (zawiera on inny radionuklid)"
     ]
    },
    {
     "cell_type": "heading",
     "level": 3,
     "metadata": {},
     "source": [
      "Doklejenie wynik\u00f3w "
     ]
    },
    {
     "cell_type": "markdown",
     "metadata": {},
     "source": [
      "Pobierz wyniki z zadania 1 i sformatuj je do takiej samej postaci (powiedzmy \u017ce pochodz\u0105 one ze stacji o nazwie: \"Stacja Hor\"), nast\u0119pnie po\u0142\u0105cz ramki razem "
     ]
    },
    {
     "cell_type": "code",
     "collapsed": false,
     "input": [],
     "language": "python",
     "metadata": {},
     "outputs": [],
     "prompt_number": 30
    },
    {
     "cell_type": "heading",
     "level": 3,
     "metadata": {},
     "source": [
      "Pivoting pe\u0142nych danych"
     ]
    },
    {
     "cell_type": "markdown",
     "metadata": {},
     "source": [
      "Teraz skonstruuj tabelk\u0119\u00a0zawieraj\u0105c\u0105 takie kolumny: \n",
      "\n",
      "* Data\n",
      "* Dla ka\u017cdej kombinacji Stacji i parametru kolumn\u0119 z poziomem zanieczyszczenia"
     ]
    },
    {
     "cell_type": "code",
     "collapsed": false,
     "input": [],
     "language": "python",
     "metadata": {},
     "outputs": [],
     "prompt_number": 30
    },
    {
     "cell_type": "heading",
     "level": 3,
     "metadata": {},
     "source": [
      "Wyniki"
     ]
    },
    {
     "cell_type": "markdown",
     "metadata": {},
     "source": [
      "Wy\u015bwietl wyniki w \u0142adnym wykresie :)"
     ]
    },
    {
     "cell_type": "code",
     "collapsed": false,
     "input": [],
     "language": "python",
     "metadata": {},
     "outputs": [],
     "prompt_number": 30
    }
   ],
   "metadata": {}
  }
 ]
}